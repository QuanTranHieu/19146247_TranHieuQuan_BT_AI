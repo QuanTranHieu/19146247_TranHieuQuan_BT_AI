{
  "nbformat": 4,
  "nbformat_minor": 0,
  "metadata": {
    "colab": {
      "name": "khuon_mat.ipynb",
      "provenance": []
    },
    "kernelspec": {
      "name": "python3",
      "display_name": "Python 3"
    },
    "language_info": {
      "name": "python"
    },
    "accelerator": "GPU"
  },
  "cells": [
    {
      "cell_type": "code",
      "execution_count": 36,
      "metadata": {
        "colab": {
          "base_uri": "https://localhost:8080/"
        },
        "id": "UJPGGgOvVqbo",
        "outputId": "28b6aba2-8b3d-4609-fe1b-891997dbe33f"
      },
      "outputs": [
        {
          "output_type": "stream",
          "name": "stdout",
          "text": [
            "Drive already mounted at /content/drive; to attempt to forcibly remount, call drive.mount(\"/content/drive\", force_remount=True).\n"
          ]
        }
      ],
      "source": [
        "from google.colab import drive\n",
        "drive.mount('/content/drive')"
      ]
    },
    {
      "cell_type": "code",
      "source": [
        "from keras.preprocessing.image import load_img, img_to_array,array_to_img,ImageDataGenerator, image\n",
        "from keras.layers import Dense,Activation,Dropout,Conv2D,MaxPooling2D,Flatten\n",
        "from tensorflow.keras.preprocessing.image import ImageDataGenerator\n",
        "from keras.preprocessing.image import img_to_array\n",
        "from tensorflow.keras.preprocessing import image\n",
        "from tensorflow.keras.models import load_model\n",
        "from keras.models import  Sequential"
      ],
      "metadata": {
        "id": "_YTYlHbjWEAF"
      },
      "execution_count": 37,
      "outputs": []
    },
    {
      "cell_type": "code",
      "source": [
        "import numpy as np\n",
        "import matplotlib.pyplot as plt\n",
        "import tensorflow as tf\n",
        "import pandas as pd\n",
        "import os"
      ],
      "metadata": {
        "id": "AVfL5BoxWKJN"
      },
      "execution_count": 38,
      "outputs": []
    },
    {
      "cell_type": "code",
      "source": [
        "import numpy as np\n",
        "import matplotlib.pyplot as plt\n",
        "import tensorflow as tf\n",
        "import pandas as pd"
      ],
      "metadata": {
        "id": "AW7slpg2WLNH"
      },
      "execution_count": 39,
      "outputs": []
    },
    {
      "cell_type": "code",
      "source": [
        "train_data = '/content/drive/MyDrive/Baitap_AI/khuon_mat/train'\n",
        "test_data =  '/content/drive/MyDrive/Baitap_AI/khuon_mat/test'\n",
        "val_data  =  '/content/drive/MyDrive/Baitap_AI/khuon_mat/test'"
      ],
      "metadata": {
        "id": "KOy_OqRRWTHI"
      },
      "execution_count": 40,
      "outputs": []
    },
    {
      "cell_type": "code",
      "source": [
        "from keras.engine.data_adapter import train_validation_split"
      ],
      "metadata": {
        "id": "-1ZWuWvKWgLo"
      },
      "execution_count": 41,
      "outputs": []
    },
    {
      "cell_type": "code",
      "source": [
        "data_scale = ImageDataGenerator(rescale=1. / 255,shear_range=0.2,zoom_range=0.2,horizontal_flip=True)\n",
        "train_input = data_scale.flow_from_directory(train_data,target_size=(120, 120),batch_size=32,class_mode=\"categorical\")\n",
        "test_input = data_scale.flow_from_directory(test_data,target_size=(120, 120),batch_size=32,class_mode=\"categorical\")\n",
        "val_input = data_scale.flow_from_directory(val_data,target_size=(120, 120),batch_size=32,class_mode=\"categorical\")"
      ],
      "metadata": {
        "colab": {
          "base_uri": "https://localhost:8080/"
        },
        "id": "F6gBy0GqWikK",
        "outputId": "7da074d9-1686-4f59-bb7d-c7a0f6d0c934"
      },
      "execution_count": 42,
      "outputs": [
        {
          "output_type": "stream",
          "name": "stdout",
          "text": [
            "Found 47 images belonging to 3 classes.\n",
            "Found 24 images belonging to 3 classes.\n",
            "Found 24 images belonging to 3 classes.\n"
          ]
        }
      ]
    },
    {
      "cell_type": "code",
      "source": [
        "class_name = ['Quân', 'Sơn Tùng', 'Hải Tú']"
      ],
      "metadata": {
        "id": "w5_R1iwsWnzB"
      },
      "execution_count": 43,
      "outputs": []
    },
    {
      "cell_type": "code",
      "source": [
        "print(\"labels: \", class_name)\n",
        "print(\"match class: \", train_input.class_indices)\n",
        "print(\"Số người: \",train_input.num_classes)"
      ],
      "metadata": {
        "colab": {
          "base_uri": "https://localhost:8080/"
        },
        "id": "tsADOR19WxMk",
        "outputId": "a369791f-dd4a-408c-a6c2-bbc4e20878b6"
      },
      "execution_count": 44,
      "outputs": [
        {
          "output_type": "stream",
          "name": "stdout",
          "text": [
            "labels:  ['Quân', 'Sơn Tùng', 'Hải Tú']\n",
            "match class:  {'Hải Tú': 0, 'Quân Trần': 1, 'Sơn Tùng': 2}\n",
            "Số người:  3\n"
          ]
        }
      ]
    },
    {
      "cell_type": "code",
      "source": [
        "model=Sequential()\n",
        "\n",
        "model.add(Conv2D(32,(3,3),activation='relu',kernel_initializer='he_uniform',padding='same', input_shape=(120,120,3)))\n",
        "model.add(MaxPooling2D((2,2)))\n",
        "model.add(Dropout(0.25))\n",
        "\n",
        "model.add(Conv2D(64,(3,3),activation='relu',kernel_initializer='he_uniform',padding='same'))\n",
        "model.add(MaxPooling2D((2,2)))\n",
        "model.add(Dropout(0.25))\n",
        "\n",
        "model.add(Conv2D(128,(3,3),activation='relu',kernel_initializer='he_uniform',padding='same'))\n",
        "model.add(MaxPooling2D((2,2)))\n",
        "model.add(Dropout(0.25))"
      ],
      "metadata": {
        "id": "VGxBMc6gW9g7"
      },
      "execution_count": 46,
      "outputs": []
    },
    {
      "cell_type": "code",
      "source": [
        "model.add(Flatten())\n",
        "\n",
        "model.add(Dense(128,activation='relu'))\n",
        "model.add(Dropout(0.25))\n",
        "model.add(Dense(128,activation='relu'))\n",
        "model.add(Dropout(0.25))\n",
        "\n",
        "model.add(Dense(3,activation='softmax'))  \n",
        "model.summary()"
      ],
      "metadata": {
        "colab": {
          "base_uri": "https://localhost:8080/"
        },
        "id": "o8t-N-ztXAXH",
        "outputId": "27a40fd7-21e8-4e61-fac5-af4bd12e34b2"
      },
      "execution_count": 47,
      "outputs": [
        {
          "output_type": "stream",
          "name": "stdout",
          "text": [
            "Model: \"sequential_2\"\n",
            "_________________________________________________________________\n",
            " Layer (type)                Output Shape              Param #   \n",
            "=================================================================\n",
            " conv2d_6 (Conv2D)           (None, 120, 120, 32)      896       \n",
            "                                                                 \n",
            " max_pooling2d_6 (MaxPooling  (None, 60, 60, 32)       0         \n",
            " 2D)                                                             \n",
            "                                                                 \n",
            " dropout_12 (Dropout)        (None, 60, 60, 32)        0         \n",
            "                                                                 \n",
            " conv2d_7 (Conv2D)           (None, 60, 60, 64)        18496     \n",
            "                                                                 \n",
            " max_pooling2d_7 (MaxPooling  (None, 30, 30, 64)       0         \n",
            " 2D)                                                             \n",
            "                                                                 \n",
            " dropout_13 (Dropout)        (None, 30, 30, 64)        0         \n",
            "                                                                 \n",
            " conv2d_8 (Conv2D)           (None, 30, 30, 128)       73856     \n",
            "                                                                 \n",
            " max_pooling2d_8 (MaxPooling  (None, 15, 15, 128)      0         \n",
            " 2D)                                                             \n",
            "                                                                 \n",
            " dropout_14 (Dropout)        (None, 15, 15, 128)       0         \n",
            "                                                                 \n",
            " flatten_3 (Flatten)         (None, 28800)             0         \n",
            "                                                                 \n",
            " dense_9 (Dense)             (None, 128)               3686528   \n",
            "                                                                 \n",
            " dropout_15 (Dropout)        (None, 128)               0         \n",
            "                                                                 \n",
            " dense_10 (Dense)            (None, 128)               16512     \n",
            "                                                                 \n",
            " dropout_16 (Dropout)        (None, 128)               0         \n",
            "                                                                 \n",
            " dense_11 (Dense)            (None, 3)                 387       \n",
            "                                                                 \n",
            "=================================================================\n",
            "Total params: 3,796,675\n",
            "Trainable params: 3,796,675\n",
            "Non-trainable params: 0\n",
            "_________________________________________________________________\n"
          ]
        }
      ]
    },
    {
      "cell_type": "code",
      "source": [
        "from tensorflow.keras.optimizers import Adam"
      ],
      "metadata": {
        "id": "sfGexHpYXDZd"
      },
      "execution_count": 48,
      "outputs": []
    },
    {
      "cell_type": "code",
      "source": [
        "opt = Adam(learning_rate=0.001)\n",
        "model.compile(loss='categorical_crossentropy',optimizer='adam',metrics=['accuracy'])"
      ],
      "metadata": {
        "id": "U8RCx8UnXGYe"
      },
      "execution_count": 49,
      "outputs": []
    },
    {
      "cell_type": "code",
      "source": [
        "face_train = model.fit(train_input,batch_size=30,epochs=100,verbose=1,validation_data=val_input)"
      ],
      "metadata": {
        "colab": {
          "base_uri": "https://localhost:8080/"
        },
        "id": "J_v3Q62FXIvG",
        "outputId": "8e9feda4-6dad-4783-f433-56c4eab3848f"
      },
      "execution_count": 50,
      "outputs": [
        {
          "output_type": "stream",
          "name": "stdout",
          "text": [
            "Epoch 1/100\n",
            "2/2 [==============================] - 3s 2s/step - loss: 8.0221 - accuracy: 0.2979 - val_loss: 4.8770 - val_accuracy: 0.3333\n",
            "Epoch 2/100\n",
            "2/2 [==============================] - 2s 1s/step - loss: 12.0950 - accuracy: 0.4043 - val_loss: 1.3756 - val_accuracy: 0.3333\n",
            "Epoch 3/100\n",
            "2/2 [==============================] - 2s 1s/step - loss: 3.1439 - accuracy: 0.5106 - val_loss: 1.2723 - val_accuracy: 0.2917\n",
            "Epoch 4/100\n",
            "2/2 [==============================] - 2s 1s/step - loss: 3.7418 - accuracy: 0.4255 - val_loss: 1.1389 - val_accuracy: 0.4167\n",
            "Epoch 5/100\n",
            "2/2 [==============================] - 2s 1s/step - loss: 1.7277 - accuracy: 0.3830 - val_loss: 1.1025 - val_accuracy: 0.3750\n",
            "Epoch 6/100\n",
            "2/2 [==============================] - 2s 1s/step - loss: 1.2880 - accuracy: 0.3617 - val_loss: 1.0986 - val_accuracy: 0.2917\n",
            "Epoch 7/100\n",
            "2/2 [==============================] - 2s 1s/step - loss: 1.0684 - accuracy: 0.4043 - val_loss: 1.0981 - val_accuracy: 0.3333\n",
            "Epoch 8/100\n",
            "2/2 [==============================] - 2s 1s/step - loss: 1.0625 - accuracy: 0.4468 - val_loss: 1.0954 - val_accuracy: 0.3333\n",
            "Epoch 9/100\n",
            "2/2 [==============================] - 2s 1s/step - loss: 1.0506 - accuracy: 0.5319 - val_loss: 1.0965 - val_accuracy: 0.3333\n",
            "Epoch 10/100\n",
            "2/2 [==============================] - 2s 1s/step - loss: 1.0519 - accuracy: 0.4468 - val_loss: 1.1000 - val_accuracy: 0.3333\n",
            "Epoch 11/100\n",
            "2/2 [==============================] - 2s 1s/step - loss: 1.0464 - accuracy: 0.4894 - val_loss: 1.1014 - val_accuracy: 0.3333\n",
            "Epoch 12/100\n",
            "2/2 [==============================] - 2s 978ms/step - loss: 1.0515 - accuracy: 0.4894 - val_loss: 1.1046 - val_accuracy: 0.3333\n",
            "Epoch 13/100\n",
            "2/2 [==============================] - 2s 1s/step - loss: 1.0207 - accuracy: 0.4894 - val_loss: 1.1038 - val_accuracy: 0.3333\n",
            "Epoch 14/100\n",
            "2/2 [==============================] - 2s 1s/step - loss: 1.0081 - accuracy: 0.4894 - val_loss: 1.1051 - val_accuracy: 0.3333\n",
            "Epoch 15/100\n",
            "2/2 [==============================] - 2s 1s/step - loss: 0.9845 - accuracy: 0.4894 - val_loss: 1.0994 - val_accuracy: 0.3333\n",
            "Epoch 16/100\n",
            "2/2 [==============================] - 2s 1s/step - loss: 0.9554 - accuracy: 0.5106 - val_loss: 1.1021 - val_accuracy: 0.3333\n",
            "Epoch 17/100\n",
            "2/2 [==============================] - 2s 1s/step - loss: 0.9635 - accuracy: 0.5106 - val_loss: 1.0991 - val_accuracy: 0.3333\n",
            "Epoch 18/100\n",
            "2/2 [==============================] - 2s 1s/step - loss: 0.9964 - accuracy: 0.4894 - val_loss: 1.1106 - val_accuracy: 0.3333\n",
            "Epoch 19/100\n",
            "2/2 [==============================] - 2s 1s/step - loss: 0.9594 - accuracy: 0.4894 - val_loss: 1.1099 - val_accuracy: 0.3333\n",
            "Epoch 20/100\n",
            "2/2 [==============================] - 2s 1s/step - loss: 0.9088 - accuracy: 0.6170 - val_loss: 1.1302 - val_accuracy: 0.3333\n",
            "Epoch 21/100\n",
            "2/2 [==============================] - 2s 1s/step - loss: 0.9538 - accuracy: 0.5319 - val_loss: 1.1245 - val_accuracy: 0.4167\n",
            "Epoch 22/100\n",
            "2/2 [==============================] - 2s 1s/step - loss: 0.9152 - accuracy: 0.4681 - val_loss: 1.1263 - val_accuracy: 0.3333\n",
            "Epoch 23/100\n",
            "2/2 [==============================] - 2s 1s/step - loss: 0.9301 - accuracy: 0.6383 - val_loss: 1.1320 - val_accuracy: 0.4167\n",
            "Epoch 24/100\n",
            "2/2 [==============================] - 2s 1s/step - loss: 0.8132 - accuracy: 0.6809 - val_loss: 1.1379 - val_accuracy: 0.2917\n",
            "Epoch 25/100\n",
            "2/2 [==============================] - 2s 1s/step - loss: 0.8229 - accuracy: 0.7234 - val_loss: 1.1407 - val_accuracy: 0.4167\n",
            "Epoch 26/100\n",
            "2/2 [==============================] - 2s 1s/step - loss: 0.7885 - accuracy: 0.5957 - val_loss: 1.1645 - val_accuracy: 0.3750\n",
            "Epoch 27/100\n",
            "2/2 [==============================] - 2s 1s/step - loss: 0.8048 - accuracy: 0.6596 - val_loss: 1.1673 - val_accuracy: 0.2917\n",
            "Epoch 28/100\n",
            "2/2 [==============================] - 2s 1s/step - loss: 0.8011 - accuracy: 0.6596 - val_loss: 1.1630 - val_accuracy: 0.3333\n",
            "Epoch 29/100\n",
            "2/2 [==============================] - 2s 1s/step - loss: 0.9172 - accuracy: 0.6170 - val_loss: 1.1488 - val_accuracy: 0.3333\n",
            "Epoch 30/100\n",
            "2/2 [==============================] - 2s 1s/step - loss: 0.7833 - accuracy: 0.6809 - val_loss: 1.1501 - val_accuracy: 0.3750\n",
            "Epoch 31/100\n",
            "2/2 [==============================] - 2s 1s/step - loss: 0.8793 - accuracy: 0.5532 - val_loss: 1.1659 - val_accuracy: 0.3333\n",
            "Epoch 32/100\n",
            "2/2 [==============================] - 2s 1s/step - loss: 0.7289 - accuracy: 0.6596 - val_loss: 1.1696 - val_accuracy: 0.4167\n",
            "Epoch 33/100\n",
            "2/2 [==============================] - 2s 1s/step - loss: 0.7325 - accuracy: 0.7021 - val_loss: 1.1693 - val_accuracy: 0.3750\n",
            "Epoch 34/100\n",
            "2/2 [==============================] - 2s 1s/step - loss: 0.6957 - accuracy: 0.7872 - val_loss: 1.1375 - val_accuracy: 0.3333\n",
            "Epoch 35/100\n",
            "2/2 [==============================] - 2s 1s/step - loss: 0.7077 - accuracy: 0.7234 - val_loss: 1.1276 - val_accuracy: 0.3333\n",
            "Epoch 36/100\n",
            "2/2 [==============================] - 2s 1s/step - loss: 0.7351 - accuracy: 0.7234 - val_loss: 1.1087 - val_accuracy: 0.3333\n",
            "Epoch 37/100\n",
            "2/2 [==============================] - 2s 1s/step - loss: 0.7306 - accuracy: 0.6809 - val_loss: 1.1601 - val_accuracy: 0.4167\n",
            "Epoch 38/100\n",
            "2/2 [==============================] - 2s 1s/step - loss: 0.7087 - accuracy: 0.7021 - val_loss: 1.1312 - val_accuracy: 0.3333\n",
            "Epoch 39/100\n",
            "2/2 [==============================] - 2s 1s/step - loss: 0.5776 - accuracy: 0.7234 - val_loss: 1.1223 - val_accuracy: 0.2917\n",
            "Epoch 40/100\n",
            "2/2 [==============================] - 2s 1s/step - loss: 0.5794 - accuracy: 0.7021 - val_loss: 1.1731 - val_accuracy: 0.3333\n",
            "Epoch 41/100\n",
            "2/2 [==============================] - 2s 1s/step - loss: 0.5202 - accuracy: 0.7660 - val_loss: 1.2037 - val_accuracy: 0.3750\n",
            "Epoch 42/100\n",
            "2/2 [==============================] - 2s 1s/step - loss: 0.5763 - accuracy: 0.7447 - val_loss: 1.1741 - val_accuracy: 0.3750\n",
            "Epoch 43/100\n",
            "2/2 [==============================] - 2s 1s/step - loss: 0.5097 - accuracy: 0.8723 - val_loss: 1.1961 - val_accuracy: 0.4167\n",
            "Epoch 44/100\n",
            "2/2 [==============================] - 2s 1s/step - loss: 0.4199 - accuracy: 0.8298 - val_loss: 1.3205 - val_accuracy: 0.4167\n",
            "Epoch 45/100\n",
            "2/2 [==============================] - 2s 1s/step - loss: 0.4582 - accuracy: 0.8298 - val_loss: 1.2546 - val_accuracy: 0.4583\n",
            "Epoch 46/100\n",
            "2/2 [==============================] - 2s 1s/step - loss: 0.4939 - accuracy: 0.7872 - val_loss: 1.1887 - val_accuracy: 0.3750\n",
            "Epoch 47/100\n",
            "2/2 [==============================] - 2s 1s/step - loss: 0.4589 - accuracy: 0.7447 - val_loss: 1.2203 - val_accuracy: 0.3750\n",
            "Epoch 48/100\n",
            "2/2 [==============================] - 2s 1s/step - loss: 0.3799 - accuracy: 0.8298 - val_loss: 1.1860 - val_accuracy: 0.5000\n",
            "Epoch 49/100\n",
            "2/2 [==============================] - 2s 1s/step - loss: 0.3793 - accuracy: 0.8511 - val_loss: 1.1752 - val_accuracy: 0.3750\n",
            "Epoch 50/100\n",
            "2/2 [==============================] - 2s 1s/step - loss: 0.3673 - accuracy: 0.8723 - val_loss: 1.1714 - val_accuracy: 0.3750\n",
            "Epoch 51/100\n",
            "2/2 [==============================] - 2s 1s/step - loss: 0.4273 - accuracy: 0.8298 - val_loss: 1.2530 - val_accuracy: 0.4583\n",
            "Epoch 52/100\n",
            "2/2 [==============================] - 2s 1s/step - loss: 0.2868 - accuracy: 0.9149 - val_loss: 1.2298 - val_accuracy: 0.5000\n",
            "Epoch 53/100\n",
            "2/2 [==============================] - 2s 1s/step - loss: 0.3865 - accuracy: 0.8936 - val_loss: 1.3176 - val_accuracy: 0.3333\n",
            "Epoch 54/100\n",
            "2/2 [==============================] - 2s 1s/step - loss: 0.1853 - accuracy: 0.9574 - val_loss: 1.3556 - val_accuracy: 0.4583\n",
            "Epoch 55/100\n",
            "2/2 [==============================] - 2s 1s/step - loss: 0.2712 - accuracy: 0.9149 - val_loss: 1.3868 - val_accuracy: 0.3750\n",
            "Epoch 56/100\n",
            "2/2 [==============================] - 2s 1s/step - loss: 0.2511 - accuracy: 0.9149 - val_loss: 1.4664 - val_accuracy: 0.4167\n",
            "Epoch 57/100\n",
            "2/2 [==============================] - 2s 1s/step - loss: 0.2771 - accuracy: 0.9149 - val_loss: 1.6336 - val_accuracy: 0.4167\n",
            "Epoch 58/100\n",
            "2/2 [==============================] - 2s 1s/step - loss: 0.4227 - accuracy: 0.8511 - val_loss: 1.5131 - val_accuracy: 0.4583\n",
            "Epoch 59/100\n",
            "2/2 [==============================] - 2s 1s/step - loss: 0.2671 - accuracy: 0.8511 - val_loss: 1.4527 - val_accuracy: 0.4167\n",
            "Epoch 60/100\n",
            "2/2 [==============================] - 2s 1s/step - loss: 0.1167 - accuracy: 0.9787 - val_loss: 1.4204 - val_accuracy: 0.4167\n",
            "Epoch 61/100\n",
            "2/2 [==============================] - 2s 1s/step - loss: 0.3657 - accuracy: 0.9149 - val_loss: 1.3279 - val_accuracy: 0.5000\n",
            "Epoch 62/100\n",
            "2/2 [==============================] - 2s 1s/step - loss: 0.2297 - accuracy: 0.9362 - val_loss: 1.2862 - val_accuracy: 0.5000\n",
            "Epoch 63/100\n",
            "2/2 [==============================] - 2s 1s/step - loss: 0.2415 - accuracy: 0.8936 - val_loss: 1.1763 - val_accuracy: 0.5000\n",
            "Epoch 64/100\n",
            "2/2 [==============================] - 2s 1s/step - loss: 0.3668 - accuracy: 0.8511 - val_loss: 1.2146 - val_accuracy: 0.4583\n",
            "Epoch 65/100\n",
            "2/2 [==============================] - 2s 1s/step - loss: 0.2018 - accuracy: 0.9574 - val_loss: 1.2764 - val_accuracy: 0.4583\n",
            "Epoch 66/100\n",
            "2/2 [==============================] - 2s 1s/step - loss: 0.2141 - accuracy: 0.9149 - val_loss: 1.4016 - val_accuracy: 0.4583\n",
            "Epoch 67/100\n",
            "2/2 [==============================] - 2s 1s/step - loss: 0.1575 - accuracy: 0.8936 - val_loss: 1.4733 - val_accuracy: 0.4583\n",
            "Epoch 68/100\n",
            "2/2 [==============================] - 2s 1s/step - loss: 0.0995 - accuracy: 0.9787 - val_loss: 1.5618 - val_accuracy: 0.4167\n",
            "Epoch 69/100\n",
            "2/2 [==============================] - 2s 1s/step - loss: 0.0792 - accuracy: 0.9574 - val_loss: 1.5761 - val_accuracy: 0.4583\n",
            "Epoch 70/100\n",
            "2/2 [==============================] - 2s 1s/step - loss: 0.1592 - accuracy: 0.9362 - val_loss: 1.5614 - val_accuracy: 0.5000\n",
            "Epoch 71/100\n",
            "2/2 [==============================] - 2s 1s/step - loss: 0.1410 - accuracy: 0.9362 - val_loss: 1.8173 - val_accuracy: 0.4167\n",
            "Epoch 72/100\n",
            "2/2 [==============================] - 2s 1s/step - loss: 0.0718 - accuracy: 1.0000 - val_loss: 1.9624 - val_accuracy: 0.4583\n",
            "Epoch 73/100\n",
            "2/2 [==============================] - 2s 1s/step - loss: 0.1367 - accuracy: 0.9362 - val_loss: 2.1062 - val_accuracy: 0.3750\n",
            "Epoch 74/100\n",
            "2/2 [==============================] - 2s 1s/step - loss: 0.1541 - accuracy: 0.9149 - val_loss: 2.2344 - val_accuracy: 0.4583\n",
            "Epoch 75/100\n",
            "2/2 [==============================] - 2s 998ms/step - loss: 0.1573 - accuracy: 0.9149 - val_loss: 1.9021 - val_accuracy: 0.4583\n",
            "Epoch 76/100\n",
            "2/2 [==============================] - 2s 1s/step - loss: 0.2235 - accuracy: 0.9574 - val_loss: 1.6367 - val_accuracy: 0.5000\n",
            "Epoch 77/100\n",
            "2/2 [==============================] - 2s 1s/step - loss: 0.0864 - accuracy: 1.0000 - val_loss: 1.9487 - val_accuracy: 0.3750\n",
            "Epoch 78/100\n",
            "2/2 [==============================] - 2s 1s/step - loss: 0.1867 - accuracy: 0.9787 - val_loss: 1.5976 - val_accuracy: 0.5000\n",
            "Epoch 79/100\n",
            "2/2 [==============================] - 2s 1s/step - loss: 0.1704 - accuracy: 0.9149 - val_loss: 1.5500 - val_accuracy: 0.4583\n",
            "Epoch 80/100\n",
            "2/2 [==============================] - 2s 1s/step - loss: 0.1496 - accuracy: 0.9574 - val_loss: 1.5697 - val_accuracy: 0.5417\n",
            "Epoch 81/100\n",
            "2/2 [==============================] - 2s 1s/step - loss: 0.3218 - accuracy: 0.9362 - val_loss: 1.3398 - val_accuracy: 0.4167\n",
            "Epoch 82/100\n",
            "2/2 [==============================] - 2s 962ms/step - loss: 0.1874 - accuracy: 0.9149 - val_loss: 1.3910 - val_accuracy: 0.4167\n",
            "Epoch 83/100\n",
            "2/2 [==============================] - 2s 1s/step - loss: 0.1420 - accuracy: 0.9787 - val_loss: 1.3662 - val_accuracy: 0.4167\n",
            "Epoch 84/100\n",
            "2/2 [==============================] - 2s 1s/step - loss: 0.1622 - accuracy: 0.9574 - val_loss: 1.6792 - val_accuracy: 0.5000\n",
            "Epoch 85/100\n",
            "2/2 [==============================] - 2s 1s/step - loss: 0.1766 - accuracy: 0.9362 - val_loss: 1.6723 - val_accuracy: 0.3750\n",
            "Epoch 86/100\n",
            "2/2 [==============================] - 2s 1s/step - loss: 0.1031 - accuracy: 0.9787 - val_loss: 1.6346 - val_accuracy: 0.4583\n",
            "Epoch 87/100\n",
            "2/2 [==============================] - 2s 1s/step - loss: 0.1686 - accuracy: 0.9362 - val_loss: 1.4756 - val_accuracy: 0.5417\n",
            "Epoch 88/100\n",
            "2/2 [==============================] - 2s 1s/step - loss: 0.1243 - accuracy: 0.9574 - val_loss: 1.6754 - val_accuracy: 0.3750\n",
            "Epoch 89/100\n",
            "2/2 [==============================] - 2s 1s/step - loss: 0.1310 - accuracy: 0.9362 - val_loss: 1.6568 - val_accuracy: 0.4167\n",
            "Epoch 90/100\n",
            "2/2 [==============================] - 2s 1s/step - loss: 0.0704 - accuracy: 0.9787 - val_loss: 1.4884 - val_accuracy: 0.5000\n",
            "Epoch 91/100\n",
            "2/2 [==============================] - 2s 1s/step - loss: 0.0962 - accuracy: 0.9574 - val_loss: 1.7356 - val_accuracy: 0.5000\n",
            "Epoch 92/100\n",
            "2/2 [==============================] - 2s 1s/step - loss: 0.0778 - accuracy: 0.9787 - val_loss: 1.7064 - val_accuracy: 0.4167\n",
            "Epoch 93/100\n",
            "2/2 [==============================] - 2s 953ms/step - loss: 0.1410 - accuracy: 0.9362 - val_loss: 2.0100 - val_accuracy: 0.3750\n",
            "Epoch 94/100\n",
            "2/2 [==============================] - 2s 1s/step - loss: 0.0727 - accuracy: 0.9787 - val_loss: 1.8974 - val_accuracy: 0.3750\n",
            "Epoch 95/100\n",
            "2/2 [==============================] - 2s 1s/step - loss: 0.1277 - accuracy: 0.9362 - val_loss: 1.5496 - val_accuracy: 0.4167\n",
            "Epoch 96/100\n",
            "2/2 [==============================] - 2s 1s/step - loss: 0.0469 - accuracy: 1.0000 - val_loss: 1.7587 - val_accuracy: 0.5417\n",
            "Epoch 97/100\n",
            "2/2 [==============================] - 2s 1s/step - loss: 0.0832 - accuracy: 0.9787 - val_loss: 1.5466 - val_accuracy: 0.5833\n",
            "Epoch 98/100\n",
            "2/2 [==============================] - 2s 1s/step - loss: 0.0533 - accuracy: 0.9787 - val_loss: 1.6623 - val_accuracy: 0.5000\n",
            "Epoch 99/100\n",
            "2/2 [==============================] - 2s 1s/step - loss: 0.0232 - accuracy: 1.0000 - val_loss: 1.9450 - val_accuracy: 0.4583\n",
            "Epoch 100/100\n",
            "2/2 [==============================] - 2s 1s/step - loss: 0.0589 - accuracy: 0.9787 - val_loss: 1.8200 - val_accuracy: 0.4583\n"
          ]
        }
      ]
    },
    {
      "cell_type": "code",
      "source": [
        "model.save('/content/drive/MyDrive/Baitap_AI/khuon_mat/face.h5')"
      ],
      "metadata": {
        "id": "YR1R-efPXQBp"
      },
      "execution_count": 51,
      "outputs": []
    },
    {
      "cell_type": "code",
      "source": [
        "pic = image.load_img('/content/drive/MyDrive/Baitap_AI/khuon_mat/Quan.jpg', target_size=(120,120)) \n",
        "plt.imshow(pic)\n",
        "pic = img_to_array(pic)\n",
        "pic = pic.reshape(1,120,120,3) \n",
        "pic = pic.astype('float32')\n",
        "pic = pic/255\n",
        "np.argmax(model.predict(pic), axis=1)"
      ],
      "metadata": {
        "colab": {
          "base_uri": "https://localhost:8080/",
          "height": 285
        },
        "id": "YNH-V3-CYArA",
        "outputId": "07a30433-4b3b-4a0c-b6ee-6582e034e033"
      },
      "execution_count": 52,
      "outputs": [
        {
          "output_type": "execute_result",
          "data": {
            "text/plain": [
              "array([1])"
            ]
          },
          "metadata": {},
          "execution_count": 52
        },
        {
          "output_type": "display_data",
          "data": {
            "text/plain": [
              "<Figure size 432x288 with 1 Axes>"
            ],
            "image/png": "[encoded data removed]"
          },
          "metadata": {
            "needs_background": "light"
          }
        }
      ]
    },
    {
      "cell_type": "code",
      "source": [
        "guess=np.argmax(model.predict(pic), axis=1)"
      ],
      "metadata": {
        "id": "NqT0-WoaYKhB"
      },
      "execution_count": 53,
      "outputs": []
    },
    {
      "cell_type": "code",
      "source": [
        "if guess[0]==0:\n",
        "  print(\"Ten: Hai Tu\")\n",
        "if guess[0]==1:\n",
        "  print(\"Ten: Quan \")\n",
        "if guess[0]==2:\n",
        "  print(\"Ten: Son Tung\")"
      ],
      "metadata": {
        "colab": {
          "base_uri": "https://localhost:8080/"
        },
        "id": "8qHzluWIYQaD",
        "outputId": "01e33d76-3359-47ab-c57e-f444bdc2a27a"
      },
      "execution_count": 54,
      "outputs": [
        {
          "output_type": "stream",
          "name": "stdout",
          "text": [
            "Ten: Quan \n"
          ]
        }
      ]
    }
  ]
}