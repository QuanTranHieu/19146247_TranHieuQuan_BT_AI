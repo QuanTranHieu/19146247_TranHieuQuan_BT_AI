{
  "nbformat": 4,
  "nbformat_minor": 0,
  "metadata": {
    "colab": {
      "name": "10_mon_an.ipynb",
      "provenance": []
    },
    "kernelspec": {
      "name": "python3",
      "display_name": "Python 3"
    },
    "language_info": {
      "name": "python"
    },
    "accelerator": "GPU"
  },
  "cells": [
    {
      "cell_type": "code",
      "execution_count": 1,
      "metadata": {
        "colab": {
          "base_uri": "https://localhost:8080/"
        },
        "id": "HNbROzKsc656",
        "outputId": "170b830a-fddc-4d94-e16f-ae6e8aea3105"
      },
      "outputs": [
        {
          "output_type": "stream",
          "name": "stdout",
          "text": [
            "Mounted at /content/drive\n"
          ]
        }
      ],
      "source": [
        "from google.colab import drive\n",
        "drive.mount('/content/drive')"
      ]
    },
    {
      "cell_type": "code",
      "source": [
        "from keras.preprocessing.image import load_img, img_to_array,array_to_img,ImageDataGenerator, image\n",
        "from keras.layers import Dense,Activation,Dropout,Conv2D,MaxPooling2D,Flatten\n",
        "from tensorflow.keras.preprocessing.image import ImageDataGenerator\n",
        "from keras.preprocessing.image import img_to_array\n",
        "from tensorflow.keras.preprocessing import image\n",
        "from tensorflow.keras.models import load_model\n",
        "from keras.models import  Sequential"
      ],
      "metadata": {
        "id": "49dQo0sRdY5e"
      },
      "execution_count": 2,
      "outputs": []
    },
    {
      "cell_type": "code",
      "source": [
        "import numpy as np\n",
        "import matplotlib.pyplot as plt\n",
        "import tensorflow as tf\n",
        "import pandas as pd\n",
        "import os"
      ],
      "metadata": {
        "id": "DGpEPW9_dbju"
      },
      "execution_count": 3,
      "outputs": []
    },
    {
      "cell_type": "code",
      "source": [
        "import numpy as np\n",
        "import matplotlib.pyplot as plt\n",
        "import tensorflow as tf\n",
        "import pandas as pd"
      ],
      "metadata": {
        "id": "gDgw5bk0ddmS"
      },
      "execution_count": 4,
      "outputs": []
    },
    {
      "cell_type": "code",
      "source": [
        "train_data = '/content/drive/MyDrive/Baitap_AI/mon_an/train'\n",
        "test_data =  '/content/drive/MyDrive/Baitap_AI/mon_an/test'\n",
        "val_data  =  '/content/drive/MyDrive/Baitap_AI/mon_an/test'"
      ],
      "metadata": {
        "id": "-5VyKg8fdgWQ"
      },
      "execution_count": 5,
      "outputs": []
    },
    {
      "cell_type": "code",
      "source": [
        "from keras.engine.data_adapter import train_validation_split\n",
        "data_scale = ImageDataGenerator(rescale=1. / 255,shear_range=0.2,zoom_range=0.2,horizontal_flip=True)\n",
        "train_input = data_scale.flow_from_directory(train_data,target_size=(120, 120),batch_size=32,class_mode=\"categorical\")\n",
        "test_input = data_scale.flow_from_directory(test_data,target_size=(120, 120),batch_size=32,class_mode=\"categorical\")\n",
        "val_input = data_scale.flow_from_directory(val_data,target_size=(120, 120),batch_size=32,class_mode=\"categorical\")"
      ],
      "metadata": {
        "colab": {
          "base_uri": "https://localhost:8080/"
        },
        "id": "gwUMJQLfdwLC",
        "outputId": "bbba8480-4084-435d-f280-124cd1068fcf"
      },
      "execution_count": 8,
      "outputs": [
        {
          "output_type": "stream",
          "name": "stdout",
          "text": [
            "Found 233 images belonging to 10 classes.\n",
            "Found 90 images belonging to 10 classes.\n",
            "Found 90 images belonging to 10 classes.\n"
          ]
        }
      ]
    },
    {
      "cell_type": "code",
      "source": [
        "class_name = ['BÁNH BÈO', 'BÁNH MÌ', 'BÁNH TÉT', 'BÁNH TRÁNG TRỘN', 'BÁNH XÈO', 'CHÈ TRÔI NƯỚC', 'CƠM CHIÊN', 'CUỐN', 'KẸO KÉO', 'PHỞ']"
      ],
      "metadata": {
        "id": "jrjZTwYFd9RX"
      },
      "execution_count": 11,
      "outputs": []
    },
    {
      "cell_type": "code",
      "source": [
        "print(\"labels: \", class_name)\n",
        "print(\"match class: \", train_input.class_indices)\n",
        "print(\"Tổng cộng các loại mon an: \",train_input.num_classes)"
      ],
      "metadata": {
        "colab": {
          "base_uri": "https://localhost:8080/"
        },
        "id": "zH1z2tFweOK2",
        "outputId": "3935e439-b6ee-45bd-d01e-6193d509b7e6"
      },
      "execution_count": 12,
      "outputs": [
        {
          "output_type": "stream",
          "name": "stdout",
          "text": [
            "labels:  ['BÁNH BÈO', 'BÁNH MÌ', 'BÁNH TÉT', 'BÁNH TRÁNG TRỘN', 'BÁNH XÈO', 'CHÈ TRÔI NƯỚC', 'CƠM CHIÊN', 'CUỐN', 'KẸO KÉO', 'PHỞ']\n",
            "match class:  {'bánh bèo': 0, 'bánh mì': 1, 'bánh tét': 2, 'bánh tráng trộn': 3, 'bánh xèo': 4, 'chè trôi nước': 5, 'cơm chiên': 6, 'cuốn': 7, 'kẹo kéo': 8, 'phở': 9}\n",
            "Tổng cộng các loại mon an:  10\n"
          ]
        }
      ]
    },
    {
      "cell_type": "code",
      "source": [
        "model=Sequential()\n",
        "\n",
        "model.add(Conv2D(32,(3,3),activation='relu',kernel_initializer='he_uniform',padding='same', input_shape=(120,120,3)))\n",
        "model.add(MaxPooling2D((2,2)))\n",
        "model.add(Dropout(0.25))\n",
        "\n",
        "model.add(Conv2D(64,(3,3),activation='relu',kernel_initializer='he_uniform',padding='same'))\n",
        "model.add(MaxPooling2D((2,2)))\n",
        "model.add(Dropout(0.25))\n",
        "\n",
        "model.add(Conv2D(128,(3,3),activation='relu',kernel_initializer='he_uniform',padding='same'))\n",
        "model.add(MaxPooling2D((2,2)))\n",
        "model.add(Dropout(0.25))\n"
      ],
      "metadata": {
        "id": "Ku9O1ydWesd4"
      },
      "execution_count": 13,
      "outputs": []
    },
    {
      "cell_type": "code",
      "source": [
        "model.add(Flatten())\n",
        "\n",
        "model.add(Dense(512,activation='relu'))\n",
        "model.add(Dropout(0.25))\n",
        "model.add(Dense(512,activation='relu'))\n",
        "model.add(Dropout(0.25))\n",
        "\n",
        "model.add(Dense(10,activation='softmax'))  \n",
        "model.summary()"
      ],
      "metadata": {
        "colab": {
          "base_uri": "https://localhost:8080/"
        },
        "id": "w_r85K9we18P",
        "outputId": "bf3bed93-51c9-435b-c5c1-35a140b1dc0d"
      },
      "execution_count": 14,
      "outputs": [
        {
          "output_type": "stream",
          "name": "stdout",
          "text": [
            "Model: \"sequential\"\n",
            "_________________________________________________________________\n",
            " Layer (type)                Output Shape              Param #   \n",
            "=================================================================\n",
            " conv2d (Conv2D)             (None, 120, 120, 32)      896       \n",
            "                                                                 \n",
            " max_pooling2d (MaxPooling2D  (None, 60, 60, 32)       0         \n",
            " )                                                               \n",
            "                                                                 \n",
            " dropout (Dropout)           (None, 60, 60, 32)        0         \n",
            "                                                                 \n",
            " conv2d_1 (Conv2D)           (None, 60, 60, 64)        18496     \n",
            "                                                                 \n",
            " max_pooling2d_1 (MaxPooling  (None, 30, 30, 64)       0         \n",
            " 2D)                                                             \n",
            "                                                                 \n",
            " dropout_1 (Dropout)         (None, 30, 30, 64)        0         \n",
            "                                                                 \n",
            " conv2d_2 (Conv2D)           (None, 30, 30, 128)       73856     \n",
            "                                                                 \n",
            " max_pooling2d_2 (MaxPooling  (None, 15, 15, 128)      0         \n",
            " 2D)                                                             \n",
            "                                                                 \n",
            " dropout_2 (Dropout)         (None, 15, 15, 128)       0         \n",
            "                                                                 \n",
            " flatten (Flatten)           (None, 28800)             0         \n",
            "                                                                 \n",
            " dense (Dense)               (None, 512)               14746112  \n",
            "                                                                 \n",
            " dropout_3 (Dropout)         (None, 512)               0         \n",
            "                                                                 \n",
            " dense_1 (Dense)             (None, 512)               262656    \n",
            "                                                                 \n",
            " dropout_4 (Dropout)         (None, 512)               0         \n",
            "                                                                 \n",
            " dense_2 (Dense)             (None, 10)                5130      \n",
            "                                                                 \n",
            "=================================================================\n",
            "Total params: 15,107,146\n",
            "Trainable params: 15,107,146\n",
            "Non-trainable params: 0\n",
            "_________________________________________________________________\n"
          ]
        }
      ]
    },
    {
      "cell_type": "code",
      "source": [
        "from tensorflow.keras.optimizers import Adam\n",
        "opt = Adam(learning_rate=0.001)\n",
        "model.compile(loss='categorical_crossentropy',optimizer='adam',metrics=['accuracy'])"
      ],
      "metadata": {
        "id": "8ioi1ns8fJLv"
      },
      "execution_count": 15,
      "outputs": []
    },
    {
      "cell_type": "code",
      "source": [
        "food_train = model.fit(train_input,batch_size=30,epochs=100,verbose=1,validation_data=val_input)"
      ],
      "metadata": {
        "colab": {
          "base_uri": "https://localhost:8080/"
        },
        "id": "pgefKGCHfMU_",
        "outputId": "ec1ab7d7-9a18-460d-b548-9b4f5b21b959"
      },
      "execution_count": 16,
      "outputs": [
        {
          "output_type": "stream",
          "name": "stdout",
          "text": [
            "Epoch 1/100\n",
            "8/8 [==============================] - 102s 13s/step - loss: 33.4069 - accuracy: 0.0858 - val_loss: 2.3872 - val_accuracy: 0.0778\n",
            "Epoch 2/100\n",
            "8/8 [==============================] - 2s 291ms/step - loss: 2.7061 - accuracy: 0.1116 - val_loss: 2.2984 - val_accuracy: 0.1333\n",
            "Epoch 3/100\n",
            "8/8 [==============================] - 2s 279ms/step - loss: 2.2954 - accuracy: 0.1288 - val_loss: 2.2932 - val_accuracy: 0.1111\n",
            "Epoch 4/100\n",
            "8/8 [==============================] - 2s 283ms/step - loss: 2.2865 - accuracy: 0.1631 - val_loss: 2.2841 - val_accuracy: 0.1111\n",
            "Epoch 5/100\n",
            "8/8 [==============================] - 2s 282ms/step - loss: 2.2854 - accuracy: 0.1459 - val_loss: 2.2905 - val_accuracy: 0.1111\n",
            "Epoch 6/100\n",
            "8/8 [==============================] - 2s 304ms/step - loss: 2.2789 - accuracy: 0.1459 - val_loss: 2.2887 - val_accuracy: 0.1111\n",
            "Epoch 7/100\n",
            "8/8 [==============================] - 2s 288ms/step - loss: 2.2784 - accuracy: 0.1288 - val_loss: 2.2849 - val_accuracy: 0.1111\n",
            "Epoch 8/100\n",
            "8/8 [==============================] - 2s 309ms/step - loss: 2.2635 - accuracy: 0.1502 - val_loss: 2.2739 - val_accuracy: 0.1111\n",
            "Epoch 9/100\n",
            "8/8 [==============================] - 2s 286ms/step - loss: 2.2357 - accuracy: 0.1288 - val_loss: 2.2438 - val_accuracy: 0.1111\n",
            "Epoch 10/100\n",
            "8/8 [==============================] - 2s 287ms/step - loss: 2.1331 - accuracy: 0.1845 - val_loss: 2.1516 - val_accuracy: 0.2000\n",
            "Epoch 11/100\n",
            "8/8 [==============================] - 2s 281ms/step - loss: 2.0650 - accuracy: 0.2575 - val_loss: 2.1114 - val_accuracy: 0.1667\n",
            "Epoch 12/100\n",
            "8/8 [==============================] - 2s 286ms/step - loss: 1.9713 - accuracy: 0.2532 - val_loss: 2.0481 - val_accuracy: 0.2111\n",
            "Epoch 13/100\n",
            "8/8 [==============================] - 2s 287ms/step - loss: 1.8823 - accuracy: 0.2876 - val_loss: 2.0415 - val_accuracy: 0.2889\n",
            "Epoch 14/100\n",
            "8/8 [==============================] - 2s 306ms/step - loss: 1.7884 - accuracy: 0.3391 - val_loss: 1.9937 - val_accuracy: 0.2667\n",
            "Epoch 15/100\n",
            "8/8 [==============================] - 2s 285ms/step - loss: 1.7937 - accuracy: 0.3519 - val_loss: 1.9602 - val_accuracy: 0.2333\n",
            "Epoch 16/100\n",
            "8/8 [==============================] - 2s 286ms/step - loss: 1.6004 - accuracy: 0.3948 - val_loss: 2.0658 - val_accuracy: 0.2778\n",
            "Epoch 17/100\n",
            "8/8 [==============================] - 2s 283ms/step - loss: 1.6444 - accuracy: 0.3820 - val_loss: 2.0690 - val_accuracy: 0.1556\n",
            "Epoch 18/100\n",
            "8/8 [==============================] - 2s 279ms/step - loss: 1.6554 - accuracy: 0.4163 - val_loss: 1.9008 - val_accuracy: 0.3000\n",
            "Epoch 19/100\n",
            "8/8 [==============================] - 2s 271ms/step - loss: 1.5331 - accuracy: 0.4249 - val_loss: 1.9012 - val_accuracy: 0.2667\n",
            "Epoch 20/100\n",
            "8/8 [==============================] - 2s 275ms/step - loss: 1.5896 - accuracy: 0.4378 - val_loss: 2.1347 - val_accuracy: 0.2222\n",
            "Epoch 21/100\n",
            "8/8 [==============================] - 2s 287ms/step - loss: 1.6353 - accuracy: 0.3948 - val_loss: 2.0892 - val_accuracy: 0.2556\n",
            "Epoch 22/100\n",
            "8/8 [==============================] - 2s 285ms/step - loss: 1.4897 - accuracy: 0.4249 - val_loss: 2.1371 - val_accuracy: 0.2778\n",
            "Epoch 23/100\n",
            "8/8 [==============================] - 2s 293ms/step - loss: 1.6365 - accuracy: 0.4120 - val_loss: 1.8727 - val_accuracy: 0.3222\n",
            "Epoch 24/100\n",
            "8/8 [==============================] - 2s 289ms/step - loss: 1.4786 - accuracy: 0.4764 - val_loss: 1.7548 - val_accuracy: 0.3444\n",
            "Epoch 25/100\n",
            "8/8 [==============================] - 2s 307ms/step - loss: 1.3374 - accuracy: 0.5365 - val_loss: 1.7327 - val_accuracy: 0.3444\n",
            "Epoch 26/100\n",
            "8/8 [==============================] - 2s 272ms/step - loss: 1.3287 - accuracy: 0.5408 - val_loss: 1.8634 - val_accuracy: 0.3222\n",
            "Epoch 27/100\n",
            "8/8 [==============================] - 2s 286ms/step - loss: 1.2744 - accuracy: 0.5622 - val_loss: 1.7903 - val_accuracy: 0.3000\n",
            "Epoch 28/100\n",
            "8/8 [==============================] - 2s 291ms/step - loss: 1.2732 - accuracy: 0.5966 - val_loss: 1.5597 - val_accuracy: 0.4111\n",
            "Epoch 29/100\n",
            "8/8 [==============================] - 2s 281ms/step - loss: 1.0678 - accuracy: 0.6094 - val_loss: 1.4550 - val_accuracy: 0.4889\n",
            "Epoch 30/100\n",
            "8/8 [==============================] - 2s 290ms/step - loss: 1.1626 - accuracy: 0.5665 - val_loss: 1.7664 - val_accuracy: 0.3778\n",
            "Epoch 31/100\n",
            "8/8 [==============================] - 2s 287ms/step - loss: 1.1607 - accuracy: 0.5708 - val_loss: 1.6968 - val_accuracy: 0.4222\n",
            "Epoch 32/100\n",
            "8/8 [==============================] - 2s 288ms/step - loss: 1.0879 - accuracy: 0.6223 - val_loss: 1.4922 - val_accuracy: 0.5111\n",
            "Epoch 33/100\n",
            "8/8 [==============================] - 2s 278ms/step - loss: 0.8717 - accuracy: 0.6867 - val_loss: 1.3665 - val_accuracy: 0.5556\n",
            "Epoch 34/100\n",
            "8/8 [==============================] - 2s 294ms/step - loss: 0.8761 - accuracy: 0.6910 - val_loss: 1.3532 - val_accuracy: 0.5222\n",
            "Epoch 35/100\n",
            "8/8 [==============================] - 2s 305ms/step - loss: 0.8421 - accuracy: 0.6953 - val_loss: 1.4378 - val_accuracy: 0.5222\n",
            "Epoch 36/100\n",
            "8/8 [==============================] - 2s 290ms/step - loss: 0.8831 - accuracy: 0.7210 - val_loss: 1.5770 - val_accuracy: 0.4889\n",
            "Epoch 37/100\n",
            "8/8 [==============================] - 2s 285ms/step - loss: 0.8145 - accuracy: 0.7167 - val_loss: 1.3657 - val_accuracy: 0.5556\n",
            "Epoch 38/100\n",
            "8/8 [==============================] - 2s 287ms/step - loss: 0.8182 - accuracy: 0.7511 - val_loss: 1.5149 - val_accuracy: 0.5778\n",
            "Epoch 39/100\n",
            "8/8 [==============================] - 2s 286ms/step - loss: 0.8076 - accuracy: 0.7167 - val_loss: 1.5052 - val_accuracy: 0.4667\n",
            "Epoch 40/100\n",
            "8/8 [==============================] - 2s 293ms/step - loss: 0.6850 - accuracy: 0.7725 - val_loss: 1.4433 - val_accuracy: 0.4556\n",
            "Epoch 41/100\n",
            "8/8 [==============================] - 2s 280ms/step - loss: 0.6091 - accuracy: 0.7725 - val_loss: 1.3958 - val_accuracy: 0.5222\n",
            "Epoch 42/100\n",
            "8/8 [==============================] - 2s 279ms/step - loss: 0.6657 - accuracy: 0.7597 - val_loss: 1.5377 - val_accuracy: 0.5333\n",
            "Epoch 43/100\n",
            "8/8 [==============================] - 2s 291ms/step - loss: 0.5674 - accuracy: 0.7983 - val_loss: 1.6496 - val_accuracy: 0.5222\n",
            "Epoch 44/100\n",
            "8/8 [==============================] - 2s 286ms/step - loss: 0.4783 - accuracy: 0.8155 - val_loss: 1.7670 - val_accuracy: 0.5111\n",
            "Epoch 45/100\n",
            "8/8 [==============================] - 2s 291ms/step - loss: 0.5772 - accuracy: 0.7897 - val_loss: 1.8983 - val_accuracy: 0.5000\n",
            "Epoch 46/100\n",
            "8/8 [==============================] - 2s 285ms/step - loss: 0.4834 - accuracy: 0.8197 - val_loss: 1.3719 - val_accuracy: 0.5889\n",
            "Epoch 47/100\n",
            "8/8 [==============================] - 2s 285ms/step - loss: 0.4840 - accuracy: 0.8498 - val_loss: 1.4621 - val_accuracy: 0.4889\n",
            "Epoch 48/100\n",
            "8/8 [==============================] - 2s 289ms/step - loss: 0.4009 - accuracy: 0.8627 - val_loss: 1.3223 - val_accuracy: 0.5667\n",
            "Epoch 49/100\n",
            "8/8 [==============================] - 2s 285ms/step - loss: 0.3331 - accuracy: 0.8970 - val_loss: 1.5627 - val_accuracy: 0.5000\n",
            "Epoch 50/100\n",
            "8/8 [==============================] - 2s 313ms/step - loss: 0.3186 - accuracy: 0.8670 - val_loss: 1.6243 - val_accuracy: 0.4778\n",
            "Epoch 51/100\n",
            "8/8 [==============================] - 2s 294ms/step - loss: 0.3673 - accuracy: 0.8541 - val_loss: 1.5515 - val_accuracy: 0.5556\n",
            "Epoch 52/100\n",
            "8/8 [==============================] - 2s 295ms/step - loss: 0.3569 - accuracy: 0.8584 - val_loss: 1.7327 - val_accuracy: 0.5000\n",
            "Epoch 53/100\n",
            "8/8 [==============================] - 2s 314ms/step - loss: 0.2951 - accuracy: 0.9056 - val_loss: 2.1124 - val_accuracy: 0.4556\n",
            "Epoch 54/100\n",
            "8/8 [==============================] - 2s 296ms/step - loss: 0.3555 - accuracy: 0.8670 - val_loss: 1.6048 - val_accuracy: 0.5444\n",
            "Epoch 55/100\n",
            "8/8 [==============================] - 2s 293ms/step - loss: 0.2511 - accuracy: 0.8884 - val_loss: 1.5960 - val_accuracy: 0.6000\n",
            "Epoch 56/100\n",
            "8/8 [==============================] - 2s 328ms/step - loss: 0.4312 - accuracy: 0.8584 - val_loss: 1.7432 - val_accuracy: 0.5444\n",
            "Epoch 57/100\n",
            "8/8 [==============================] - 2s 295ms/step - loss: 0.2923 - accuracy: 0.8970 - val_loss: 2.0241 - val_accuracy: 0.5444\n",
            "Epoch 58/100\n",
            "8/8 [==============================] - 2s 289ms/step - loss: 0.3010 - accuracy: 0.9056 - val_loss: 1.8595 - val_accuracy: 0.5444\n",
            "Epoch 59/100\n",
            "8/8 [==============================] - 2s 283ms/step - loss: 0.3340 - accuracy: 0.8670 - val_loss: 1.7525 - val_accuracy: 0.5889\n",
            "Epoch 60/100\n",
            "8/8 [==============================] - 2s 287ms/step - loss: 0.1874 - accuracy: 0.9442 - val_loss: 1.6132 - val_accuracy: 0.5222\n",
            "Epoch 61/100\n",
            "8/8 [==============================] - 2s 285ms/step - loss: 0.3227 - accuracy: 0.8927 - val_loss: 1.7874 - val_accuracy: 0.5667\n",
            "Epoch 62/100\n",
            "8/8 [==============================] - 2s 284ms/step - loss: 0.2014 - accuracy: 0.9313 - val_loss: 2.0034 - val_accuracy: 0.5667\n",
            "Epoch 63/100\n",
            "8/8 [==============================] - 2s 296ms/step - loss: 0.1780 - accuracy: 0.9356 - val_loss: 1.7646 - val_accuracy: 0.5778\n",
            "Epoch 64/100\n",
            "8/8 [==============================] - 2s 283ms/step - loss: 0.1941 - accuracy: 0.9356 - val_loss: 1.5702 - val_accuracy: 0.5667\n",
            "Epoch 65/100\n",
            "8/8 [==============================] - 2s 278ms/step - loss: 0.1090 - accuracy: 0.9785 - val_loss: 1.7995 - val_accuracy: 0.5778\n",
            "Epoch 66/100\n",
            "8/8 [==============================] - 2s 279ms/step - loss: 0.1030 - accuracy: 0.9700 - val_loss: 1.8779 - val_accuracy: 0.5556\n",
            "Epoch 67/100\n",
            "8/8 [==============================] - 2s 278ms/step - loss: 0.1169 - accuracy: 0.9657 - val_loss: 2.1194 - val_accuracy: 0.5444\n",
            "Epoch 68/100\n",
            "8/8 [==============================] - 2s 277ms/step - loss: 0.1520 - accuracy: 0.9657 - val_loss: 2.0287 - val_accuracy: 0.5778\n",
            "Epoch 69/100\n",
            "8/8 [==============================] - 2s 284ms/step - loss: 0.2295 - accuracy: 0.9356 - val_loss: 1.6450 - val_accuracy: 0.5556\n",
            "Epoch 70/100\n",
            "8/8 [==============================] - 2s 275ms/step - loss: 0.1817 - accuracy: 0.9399 - val_loss: 1.8861 - val_accuracy: 0.5889\n",
            "Epoch 71/100\n",
            "8/8 [==============================] - 2s 281ms/step - loss: 0.2155 - accuracy: 0.9356 - val_loss: 2.0281 - val_accuracy: 0.5000\n",
            "Epoch 72/100\n",
            "8/8 [==============================] - 2s 284ms/step - loss: 0.1631 - accuracy: 0.9442 - val_loss: 1.9416 - val_accuracy: 0.5444\n",
            "Epoch 73/100\n",
            "8/8 [==============================] - 2s 285ms/step - loss: 0.1367 - accuracy: 0.9571 - val_loss: 1.8284 - val_accuracy: 0.5667\n",
            "Epoch 74/100\n",
            "8/8 [==============================] - 2s 290ms/step - loss: 0.1294 - accuracy: 0.9485 - val_loss: 1.8130 - val_accuracy: 0.6111\n",
            "Epoch 75/100\n",
            "8/8 [==============================] - 2s 288ms/step - loss: 0.2895 - accuracy: 0.9013 - val_loss: 2.0629 - val_accuracy: 0.5000\n",
            "Epoch 76/100\n",
            "8/8 [==============================] - 2s 278ms/step - loss: 0.2188 - accuracy: 0.9356 - val_loss: 1.8779 - val_accuracy: 0.5444\n",
            "Epoch 77/100\n",
            "8/8 [==============================] - 2s 291ms/step - loss: 0.1904 - accuracy: 0.9485 - val_loss: 1.7562 - val_accuracy: 0.5444\n",
            "Epoch 78/100\n",
            "8/8 [==============================] - 2s 288ms/step - loss: 0.1230 - accuracy: 0.9485 - val_loss: 1.6804 - val_accuracy: 0.5556\n",
            "Epoch 79/100\n",
            "8/8 [==============================] - 2s 280ms/step - loss: 0.1204 - accuracy: 0.9700 - val_loss: 2.1133 - val_accuracy: 0.5667\n",
            "Epoch 80/100\n",
            "8/8 [==============================] - 2s 290ms/step - loss: 0.1047 - accuracy: 0.9657 - val_loss: 1.8835 - val_accuracy: 0.5889\n",
            "Epoch 81/100\n",
            "8/8 [==============================] - 2s 282ms/step - loss: 0.1084 - accuracy: 0.9614 - val_loss: 2.4170 - val_accuracy: 0.4889\n",
            "Epoch 82/100\n",
            "8/8 [==============================] - 2s 284ms/step - loss: 0.1833 - accuracy: 0.9356 - val_loss: 2.2276 - val_accuracy: 0.5222\n",
            "Epoch 83/100\n",
            "8/8 [==============================] - 2s 279ms/step - loss: 0.1137 - accuracy: 0.9528 - val_loss: 2.3096 - val_accuracy: 0.5667\n",
            "Epoch 84/100\n",
            "8/8 [==============================] - 2s 283ms/step - loss: 0.2773 - accuracy: 0.9185 - val_loss: 1.7911 - val_accuracy: 0.5556\n",
            "Epoch 85/100\n",
            "8/8 [==============================] - 2s 285ms/step - loss: 0.3842 - accuracy: 0.8798 - val_loss: 2.4253 - val_accuracy: 0.5000\n",
            "Epoch 86/100\n",
            "8/8 [==============================] - 2s 290ms/step - loss: 0.3106 - accuracy: 0.9056 - val_loss: 2.5282 - val_accuracy: 0.4444\n",
            "Epoch 87/100\n",
            "8/8 [==============================] - 2s 288ms/step - loss: 0.3640 - accuracy: 0.8712 - val_loss: 1.8186 - val_accuracy: 0.6000\n",
            "Epoch 88/100\n",
            "8/8 [==============================] - 2s 288ms/step - loss: 0.3587 - accuracy: 0.8670 - val_loss: 1.7396 - val_accuracy: 0.6222\n",
            "Epoch 89/100\n",
            "8/8 [==============================] - 2s 308ms/step - loss: 0.2410 - accuracy: 0.9313 - val_loss: 1.9981 - val_accuracy: 0.5333\n",
            "Epoch 90/100\n",
            "8/8 [==============================] - 2s 288ms/step - loss: 0.1669 - accuracy: 0.9313 - val_loss: 1.8648 - val_accuracy: 0.5444\n",
            "Epoch 91/100\n",
            "8/8 [==============================] - 2s 288ms/step - loss: 0.2116 - accuracy: 0.9313 - val_loss: 1.9203 - val_accuracy: 0.5444\n",
            "Epoch 92/100\n",
            "8/8 [==============================] - 2s 304ms/step - loss: 0.1435 - accuracy: 0.9485 - val_loss: 1.6676 - val_accuracy: 0.5667\n",
            "Epoch 93/100\n",
            "8/8 [==============================] - 2s 284ms/step - loss: 0.1398 - accuracy: 0.9571 - val_loss: 1.8247 - val_accuracy: 0.5889\n",
            "Epoch 94/100\n",
            "8/8 [==============================] - 2s 292ms/step - loss: 0.1708 - accuracy: 0.9356 - val_loss: 1.9036 - val_accuracy: 0.5333\n",
            "Epoch 95/100\n",
            "8/8 [==============================] - 2s 286ms/step - loss: 0.1633 - accuracy: 0.9356 - val_loss: 1.5979 - val_accuracy: 0.6667\n",
            "Epoch 96/100\n",
            "8/8 [==============================] - 2s 291ms/step - loss: 0.1822 - accuracy: 0.9485 - val_loss: 1.9860 - val_accuracy: 0.5556\n",
            "Epoch 97/100\n",
            "8/8 [==============================] - 2s 305ms/step - loss: 0.1408 - accuracy: 0.9442 - val_loss: 1.9979 - val_accuracy: 0.5556\n",
            "Epoch 98/100\n",
            "8/8 [==============================] - 2s 283ms/step - loss: 0.1098 - accuracy: 0.9785 - val_loss: 1.8773 - val_accuracy: 0.5444\n",
            "Epoch 99/100\n",
            "8/8 [==============================] - 2s 279ms/step - loss: 0.1584 - accuracy: 0.9528 - val_loss: 1.7552 - val_accuracy: 0.5889\n",
            "Epoch 100/100\n",
            "8/8 [==============================] - 2s 309ms/step - loss: 0.0455 - accuracy: 0.9871 - val_loss: 1.6772 - val_accuracy: 0.6111\n"
          ]
        }
      ]
    },
    {
      "cell_type": "code",
      "source": [
        "model.save('/content/drive/MyDrive/Baitap_AI/mon_an/food.h5')"
      ],
      "metadata": {
        "id": "93XkmJ1hgllv"
      },
      "execution_count": 17,
      "outputs": []
    },
    {
      "cell_type": "code",
      "source": [
        "pic = image.load_img('/content/drive/MyDrive/Baitap_AI/mon_an/banhmi.jpg', target_size=(120,120)) \n",
        "plt.imshow(pic)\n",
        "pic = img_to_array(pic)\n",
        "pic = pic.reshape(1,120,120,3) \n",
        "pic = pic.astype('float32')\n",
        "pic = pic/255\n",
        "np.argmax(model.predict(pic), axis=1)"
      ],
      "metadata": {
        "colab": {
          "base_uri": "https://localhost:8080/",
          "height": 285
        },
        "id": "NuDVEHHYg78L",
        "outputId": "dc2cd71d-397b-4c84-e963-0359406b7e97"
      },
      "execution_count": 18,
      "outputs": [
        {
          "output_type": "execute_result",
          "data": {
            "text/plain": [
              "array([1])"
            ]
          },
          "metadata": {},
          "execution_count": 18
        },
        {
          "output_type": "display_data",
          "data": {
            "text/plain": [
              "<Figure size 432x288 with 1 Axes>"
            ],
            "image/png": "[encoded data removed]"
          },
          "metadata": {
            "needs_background": "light"
          }
        }
      ]
    },
    {
      "cell_type": "code",
      "source": [
        "guess=np.argmax(model.predict(pic), axis=1)"
      ],
      "metadata": {
        "id": "laQOvZR3hOiC"
      },
      "execution_count": 19,
      "outputs": []
    },
    {
      "cell_type": "code",
      "source": [
        "if guess[0]==0:\n",
        "  print(\"Loai do an: BANH BEO\")\n",
        "if guess[0]==1:\n",
        "  print(\"Loai do an: BANH MI\")\n",
        "if guess[0]==2:\n",
        "  print(\"Loai do an: BANH TET\")\n",
        "if guess[0]==3:\n",
        "  print(\"Loai do an: BANH TRANG TRON\")\n",
        "if guess[0]==4:\n",
        "  print(\"Loai do an: BANH TROI NUOC\")\n",
        "if guess[0]==5:\n",
        "  print(\"Loai do an: BANH XEO\")\n",
        "if guess[0]==6:\n",
        "  print(\"Loai do an: CƠM CHIEN\")\n",
        "if guess[0]==7:\n",
        "  print(\"Loai do an: CUON\")\n",
        "if guess[0]==8:\n",
        "  print(\"Loai do an: KEO KEO\")\n",
        "if guess[0]==9:\n",
        "  print(\"Loai do an: PHO\")"
      ],
      "metadata": {
        "colab": {
          "base_uri": "https://localhost:8080/"
        },
        "id": "vtbJBc_Zhj00",
        "outputId": "17a28432-0975-4b66-97a5-3ed824f15d92"
      },
      "execution_count": 20,
      "outputs": [
        {
          "output_type": "stream",
          "name": "stdout",
          "text": [
            "Loai do an: BANH MI\n"
          ]
        }
      ]
    }
  ]
}